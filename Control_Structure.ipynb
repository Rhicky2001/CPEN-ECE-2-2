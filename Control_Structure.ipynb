{
  "nbformat": 4,
  "nbformat_minor": 0,
  "metadata": {
    "colab": {
      "name": "Control_Structure.ipynb",
      "provenance": [],
      "authorship_tag": "ABX9TyOy0cUlJGdQGcPqSZqTDho4",
      "include_colab_link": true
    },
    "kernelspec": {
      "name": "python3",
      "display_name": "Python 3"
    },
    "language_info": {
      "name": "python"
    }
  },
  "cells": [
    {
      "cell_type": "markdown",
      "metadata": {
        "id": "view-in-github",
        "colab_type": "text"
      },
      "source": [
        "<a href=\"https://colab.research.google.com/github/Rhicky2001/CPEN21A-ECE-2-2/blob/main/Control_Structure.ipynb\" target=\"_parent\"><img src=\"https://colab.research.google.com/assets/colab-badge.svg\" alt=\"Open In Colab\"/></a>"
      ]
    },
    {
      "cell_type": "markdown",
      "metadata": {
        "id": "j8iZXHgrxTPh"
      },
      "source": [
        "##If Statement"
      ]
    },
    {
      "cell_type": "code",
      "metadata": {
        "colab": {
          "base_uri": "https://localhost:8080/"
        },
        "id": "zHhyPENHxVa0",
        "outputId": "3e106b69-fc29-4d4f-e4d3-0ddb252dbdaa"
      },
      "source": [
        "a = 12\n",
        "b = 100\n",
        "if b>a:\n",
        " print(\"b is greater than a\")"
      ],
      "execution_count": 11,
      "outputs": [
        {
          "output_type": "stream",
          "name": "stdout",
          "text": [
            "b is greater than a\n"
          ]
        }
      ]
    },
    {
      "cell_type": "markdown",
      "metadata": {
        "id": "PhthhWeYzCr0"
      },
      "source": [
        "##Elif Statement"
      ]
    },
    {
      "cell_type": "code",
      "metadata": {
        "colab": {
          "base_uri": "https://localhost:8080/"
        },
        "id": "wlH_p8PbzEXF",
        "outputId": "5f4fde88-cdd9-4362-faec-7f2b4006d6cc"
      },
      "source": [
        "\n",
        "a = 12\n",
        "b = 100\n",
        "if b>a:\n",
        " print(\"a is less than b\")\n",
        "elif b>a:\n",
        " print(\"b is greater than a\")"
      ],
      "execution_count": 56,
      "outputs": [
        {
          "output_type": "stream",
          "name": "stdout",
          "text": [
            "a is less than b\n"
          ]
        }
      ]
    },
    {
      "cell_type": "markdown",
      "metadata": {
        "id": "tMjUiuORAVWl"
      },
      "source": [
        "##Else Statement"
      ]
    },
    {
      "cell_type": "code",
      "metadata": {
        "colab": {
          "base_uri": "https://localhost:8080/"
        },
        "id": "JdP5_gKMAZFI",
        "outputId": "057aa1a7-046e-4e35-8adf-738428e2e0d6"
      },
      "source": [
        "\n",
        "\n",
        "a = 12\n",
        "b = 12\n",
        "if b>a:\n",
        " print(\"b is less than a\")\n",
        "elif b>a:\n",
        " print(\"b is greater than a\")\n",
        "else:\n",
        " print(\"a is equal to b\")"
      ],
      "execution_count": 15,
      "outputs": [
        {
          "output_type": "stream",
          "name": "stdout",
          "text": [
            "a is equal to b\n"
          ]
        }
      ]
    },
    {
      "cell_type": "markdown",
      "metadata": {
        "id": "mk92Fog1AyVH"
      },
      "source": [
        "##Short Hand If..Else"
      ]
    },
    {
      "cell_type": "code",
      "metadata": {
        "colab": {
          "base_uri": "https://localhost:8080/"
        },
        "id": "k1QD6WLFA5Pj",
        "outputId": "aa1109e2-9181-4ddb-9716-8daceadcf267"
      },
      "source": [
        "a=2\n",
        "b=330\n",
        "print(\"A\") if a>b else print(\"B\")"
      ],
      "execution_count": 16,
      "outputs": [
        {
          "output_type": "stream",
          "name": "stdout",
          "text": [
            "B\n"
          ]
        }
      ]
    },
    {
      "cell_type": "markdown",
      "metadata": {
        "id": "edtu9VuJBTMm"
      },
      "source": [
        "##And-both Conditions are true"
      ]
    },
    {
      "cell_type": "code",
      "metadata": {
        "colab": {
          "base_uri": "https://localhost:8080/"
        },
        "id": "9n0I2rFbBVxk",
        "outputId": "20f6ade2-387c-4064-9afe-419b2cc9c027"
      },
      "source": [
        "a=200\n",
        "b=33\n",
        "c=500\n",
        "if a>b and c>a:\n",
        " print(\"The conditions were both true\")"
      ],
      "execution_count": 57,
      "outputs": [
        {
          "output_type": "stream",
          "name": "stdout",
          "text": [
            "The conditions were both true\n"
          ]
        }
      ]
    },
    {
      "cell_type": "markdown",
      "metadata": {
        "id": "-IDoOo_lB1sd"
      },
      "source": [
        "###Or Conditions"
      ]
    },
    {
      "cell_type": "code",
      "metadata": {
        "colab": {
          "base_uri": "https://localhost:8080/"
        },
        "id": "vHGcmz-BB4AD",
        "outputId": "6f6a7e56-8bda-4aa0-fa35-ba529e0896c9"
      },
      "source": [
        "\n",
        "a=200\n",
        "b=33\n",
        "c=500\n",
        "if a>b or c<a:\n",
        " print(\"One of the conditions is true\")"
      ],
      "execution_count": 22,
      "outputs": [
        {
          "output_type": "stream",
          "name": "stdout",
          "text": [
            "One of the conditions is true\n"
          ]
        }
      ]
    },
    {
      "cell_type": "markdown",
      "metadata": {
        "id": "MiwMjLKNCUWh"
      },
      "source": [
        "##Nested if"
      ]
    },
    {
      "cell_type": "code",
      "metadata": {
        "colab": {
          "base_uri": "https://localhost:8080/"
        },
        "id": "n3oZdVv8CXLp",
        "outputId": "a4b136ac-e01b-44da-b178-251019f0e0f5"
      },
      "source": [
        "x=41\n",
        "if x>10:\n",
        " print(\"Above 10\")\n",
        "if x>20:\n",
        " print(\"Above 20\")"
      ],
      "execution_count": 49,
      "outputs": [
        {
          "output_type": "stream",
          "name": "stdout",
          "text": [
            "Above 10\n",
            "Above 20\n"
          ]
        }
      ]
    },
    {
      "cell_type": "markdown",
      "metadata": {
        "id": "8lbAwg9MDZYN"
      },
      "source": [
        "##Nested If..Else"
      ]
    },
    {
      "cell_type": "code",
      "metadata": {
        "colab": {
          "base_uri": "https://localhost:8080/"
        },
        "id": "p6TwEsbEDdOH",
        "outputId": "dddc13b6-4700-4f91-a210-77b1cc60ed70"
      },
      "source": [
        "\n",
        "x=19\n",
        "if x>10:\n",
        " print(\"Above 10\")\n",
        "if x>20:\n",
        " print(\"Above 20\")\n",
        "else:\n",
        " print(\"Not above 20\")"
      ],
      "execution_count": 55,
      "outputs": [
        {
          "output_type": "stream",
          "name": "stdout",
          "text": [
            "Above 10\n",
            "Not above 20\n"
          ]
        }
      ]
    },
    {
      "cell_type": "markdown",
      "metadata": {
        "id": "JZ2v3d2REH6j"
      },
      "source": [
        "##Example 1\n",
        "###Write a program that determines if the input age is qualified to vote or not. The qualifying age is 18 years old and above."
      ]
    },
    {
      "cell_type": "code",
      "metadata": {
        "colab": {
          "base_uri": "https://localhost:8080/"
        },
        "id": "xQgP6o0mEsKZ",
        "outputId": "f61831ac-f79a-4072-dd7b-54f7120b1481"
      },
      "source": [
        "age=int(input(\"Enter your age\"))\n",
        "if age>=18:\n",
        " print(\"Qualified to vote\")\n",
        "else:\n",
        " print(\"Your not qualified to vote\")"
      ],
      "execution_count": 36,
      "outputs": [
        {
          "output_type": "stream",
          "name": "stdout",
          "text": [
            "Enter your age18\n",
            "Qualified to vote\n"
          ]
        }
      ]
    },
    {
      "cell_type": "markdown",
      "metadata": {
        "id": "NpllkRB1FVUe"
      },
      "source": [
        "##Example 2\n",
        "###Write a program that determines if the input numbers is POSITIVE or NEGATIVE. Consider 0 as positive (considering that it does not contains any negative sign)."
      ]
    },
    {
      "cell_type": "code",
      "metadata": {
        "colab": {
          "base_uri": "https://localhost:8080/"
        },
        "id": "RWlHjVkQF1F5",
        "outputId": "73f2affb-20bd-4a9c-c728-b82eefcd48b5"
      },
      "source": [
        "number=int(input(\"Enter a number\"))\n",
        "if number>0:\n",
        " print(\"You entered a positive number\")\n",
        "elif number==0:\n",
        " print(\"You entered a zero number\")\n",
        "else:\n",
        " print(\"You entered a negative number\")"
      ],
      "execution_count": 41,
      "outputs": [
        {
          "output_type": "stream",
          "name": "stdout",
          "text": [
            "Enter a number0\n",
            "You entered a zero number\n"
          ]
        }
      ]
    },
    {
      "cell_type": "markdown",
      "metadata": {
        "id": "g94iDtFtGpq5"
      },
      "source": [
        "##Example 3\n",
        "###Write a program to determine if the grades are:"
      ]
    },
    {
      "cell_type": "code",
      "metadata": {
        "colab": {
          "base_uri": "https://localhost:8080/"
        },
        "id": "Bv_E6TlNG-IO",
        "outputId": "f5bb1f56-abd1-482f-ee77-5716b918fd67"
      },
      "source": [
        "\n",
        "grade = int(input(\"ENTER a number\"))\n",
        "if grade>=75:\n",
        "  print(\"Passed\")\n",
        "elif grade==74:\n",
        "  print(\"Remedial\")\n",
        "else:\n",
        "  print(\"Failed\")"
      ],
      "execution_count": 45,
      "outputs": [
        {
          "output_type": "stream",
          "name": "stdout",
          "text": [
            "ENTER a number73\n",
            "Failed\n"
          ]
        }
      ]
    }
  ]
}