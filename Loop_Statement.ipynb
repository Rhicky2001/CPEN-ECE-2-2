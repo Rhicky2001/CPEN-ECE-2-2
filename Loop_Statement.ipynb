{
  "nbformat": 4,
  "nbformat_minor": 0,
  "metadata": {
    "colab": {
      "name": "Loop_Statement.ipynb",
      "provenance": [],
      "authorship_tag": "ABX9TyNnr+1uPspVbqYcrGNxLDjr",
      "include_colab_link": true
    },
    "kernelspec": {
      "name": "python3",
      "display_name": "Python 3"
    },
    "language_info": {
      "name": "python"
    }
  },
  "cells": [
    {
      "cell_type": "markdown",
      "metadata": {
        "id": "view-in-github",
        "colab_type": "text"
      },
      "source": [
        "<a href=\"https://colab.research.google.com/github/Rhicky2001/CPEN21A-ECE-2-2/blob/main/Loop_Statement.ipynb\" target=\"_parent\"><img src=\"https://colab.research.google.com/assets/colab-badge.svg\" alt=\"Open In Colab\"/></a>"
      ]
    },
    {
      "cell_type": "markdown",
      "metadata": {
        "id": "scGHZt2j1n5A"
      },
      "source": [
        "##For Loop"
      ]
    },
    {
      "cell_type": "code",
      "metadata": {
        "id": "vixc8Gbj1p1R",
        "colab": {
          "base_uri": "https://localhost:8080/"
        },
        "outputId": "be711404-5ff2-4baf-e8e6-27b986817403"
      },
      "source": [
        "week = (\"Sunday\",\"Monday\",\"Tuesday\",\"Wednesday\",\"Thursday\",\"Friday\",\"Saturday\")\n",
        "for x in week:\n",
        " print(x)"
      ],
      "execution_count": null,
      "outputs": [
        {
          "output_type": "stream",
          "name": "stdout",
          "text": [
            "Sunday\n",
            "Monday\n",
            "Tuesday\n",
            "Wednesday\n",
            "Thursday\n",
            "Friday\n",
            "Saturday\n"
          ]
        }
      ]
    },
    {
      "cell_type": "markdown",
      "metadata": {
        "id": "FSP8A0zEDvva"
      },
      "source": [
        "##Break Statements"
      ]
    },
    {
      "cell_type": "code",
      "metadata": {
        "id": "MzXpdi2v43lc",
        "colab": {
          "base_uri": "https://localhost:8080/"
        },
        "outputId": "59051ff9-a86b-4ecc-f46d-c5f6fc2405f9"
      },
      "source": [
        "\n",
        "week = (\"Sunday\",\"Monday\",\"Tuesday\",\"Wednesday\",\"Thursday\",\"Friday\",\"Saturday\")\n",
        "for x in week:\n",
        " print(x)\n",
        " if x ==\"Thursday\":\n",
        "   break"
      ],
      "execution_count": null,
      "outputs": [
        {
          "output_type": "stream",
          "name": "stdout",
          "text": [
            "Sunday\n",
            "Monday\n",
            "Tuesday\n",
            "Wednesday\n",
            "Thursday\n"
          ]
        }
      ]
    },
    {
      "cell_type": "code",
      "metadata": {
        "id": "JdwXOhWm6Q3S",
        "colab": {
          "base_uri": "https://localhost:8080/"
        },
        "outputId": "700fa8e7-ad25-444a-aacf-07ec52541d60"
      },
      "source": [
        "\n",
        "week = (\"Sunday\",\"Monday\",\"Tuesday\",\"Wednesday\",\"Thursday\",\"Friday\",\"Saturday\")\n",
        "for x in week:\n",
        " if x ==\"Thursday\":\n",
        "   break\n",
        "print(x)"
      ],
      "execution_count": null,
      "outputs": [
        {
          "output_type": "stream",
          "name": "stdout",
          "text": [
            "Thursday\n"
          ]
        }
      ]
    },
    {
      "cell_type": "markdown",
      "metadata": {
        "id": "spo4iZUVAJLE"
      },
      "source": [
        "##Looping Through String"
      ]
    },
    {
      "cell_type": "code",
      "metadata": {
        "colab": {
          "base_uri": "https://localhost:8080/"
        },
        "id": "_u4I8SkZALuT",
        "outputId": "83e836a0-1eaa-4214-9945-eadbd91c8e7f"
      },
      "source": [
        "for x in \"Thursday\":\n",
        " print(x)"
      ],
      "execution_count": null,
      "outputs": [
        {
          "output_type": "stream",
          "name": "stdout",
          "text": [
            "T\n",
            "h\n",
            "u\n",
            "r\n",
            "s\n",
            "d\n",
            "a\n",
            "y\n"
          ]
        }
      ]
    },
    {
      "cell_type": "markdown",
      "metadata": {
        "id": "vi3SP6YvAXcb"
      },
      "source": [
        "##The range() function"
      ]
    },
    {
      "cell_type": "code",
      "metadata": {
        "colab": {
          "base_uri": "https://localhost:8080/"
        },
        "id": "7gU3l2xYAZuY",
        "outputId": "69fedcdb-e7e4-498b-92b6-e66536e0edf0"
      },
      "source": [
        "for x in range(6):\n",
        " print(x)"
      ],
      "execution_count": null,
      "outputs": [
        {
          "output_type": "stream",
          "name": "stdout",
          "text": [
            "0\n",
            "1\n",
            "2\n",
            "3\n",
            "4\n",
            "5\n"
          ]
        }
      ]
    },
    {
      "cell_type": "code",
      "metadata": {
        "colab": {
          "base_uri": "https://localhost:8080/"
        },
        "id": "bGW6qyPDAkrZ",
        "outputId": "9fa97932-fb7c-412f-ea00-9a7fe14c793f"
      },
      "source": [
        "for x in range(2,7):\n",
        " print(x)"
      ],
      "execution_count": null,
      "outputs": [
        {
          "output_type": "stream",
          "name": "stdout",
          "text": [
            "2\n",
            "3\n",
            "4\n",
            "5\n",
            "6\n"
          ]
        }
      ]
    },
    {
      "cell_type": "markdown",
      "metadata": {
        "id": "4tzXhOHMEFa7"
      },
      "source": [
        "##Nested Loops"
      ]
    },
    {
      "cell_type": "code",
      "metadata": {
        "colab": {
          "base_uri": "https://localhost:8080/"
        },
        "id": "Z1nQwVOqEHJr",
        "outputId": "8e51381f-210d-4442-d5d8-7886ffde3692"
      },
      "source": [
        "adjective=[\"red\",\"big\",\"tasty\"]\n",
        "fruits=[\"apple\",\"banana\",\"cherry\"]\n",
        "for x in adjective:\n",
        " for y in fruits:\n",
        "  print(x,y)"
      ],
      "execution_count": null,
      "outputs": [
        {
          "output_type": "stream",
          "name": "stdout",
          "text": [
            "red apple\n",
            "red banana\n",
            "red cherry\n",
            "big apple\n",
            "big banana\n",
            "big cherry\n",
            "tasty apple\n",
            "tasty banana\n",
            "tasty cherry\n"
          ]
        }
      ]
    },
    {
      "cell_type": "markdown",
      "metadata": {
        "id": "XYw7txI1EsOe"
      },
      "source": [
        "##Python while Loop"
      ]
    },
    {
      "cell_type": "code",
      "metadata": {
        "colab": {
          "base_uri": "https://localhost:8080/"
        },
        "id": "G3TWcCIzEviY",
        "outputId": "824fefb2-e48f-406d-817a-640c7c76653b"
      },
      "source": [
        "i=1\n",
        "while i<6:\n",
        " print (i)\n",
        " i+=1 #Assignment operation for Addition"
      ],
      "execution_count": null,
      "outputs": [
        {
          "output_type": "stream",
          "name": "stdout",
          "text": [
            "1\n",
            "2\n",
            "3\n",
            "4\n",
            "5\n"
          ]
        }
      ]
    },
    {
      "cell_type": "markdown",
      "metadata": {
        "id": "hmEg1vMQFQZf"
      },
      "source": [
        "##The Break statement"
      ]
    },
    {
      "cell_type": "code",
      "metadata": {
        "colab": {
          "base_uri": "https://localhost:8080/"
        },
        "id": "iyi4kasvFTP3",
        "outputId": "06ac1347-2499-4ed8-e5f6-3114ee54fb3e"
      },
      "source": [
        "\n",
        "i=1\n",
        "while i<6:\n",
        " print (i)\n",
        " if i==3:\n",
        "  break\n",
        " i+=1 #Assignment operation for Addition"
      ],
      "execution_count": null,
      "outputs": [
        {
          "output_type": "stream",
          "name": "stdout",
          "text": [
            "1\n",
            "2\n",
            "3\n"
          ]
        }
      ]
    },
    {
      "cell_type": "markdown",
      "metadata": {
        "id": "Cnhqxk6vFoNG"
      },
      "source": [
        "##The continue statement"
      ]
    },
    {
      "cell_type": "code",
      "metadata": {
        "colab": {
          "base_uri": "https://localhost:8080/"
        },
        "id": "C5QLzu50Fq1L",
        "outputId": "d7331f1b-954e-4396-a041-9619f69527db"
      },
      "source": [
        "i=0\n",
        "while i<6:\n",
        " i+=1\n",
        " if i==3:\n",
        "  continue\n",
        " print(i)"
      ],
      "execution_count": null,
      "outputs": [
        {
          "output_type": "stream",
          "name": "stdout",
          "text": [
            "1\n",
            "2\n",
            "4\n",
            "5\n",
            "6\n"
          ]
        }
      ]
    },
    {
      "cell_type": "markdown",
      "metadata": {
        "id": "F-J1OjQrGOIm"
      },
      "source": [
        "##The else statement"
      ]
    },
    {
      "cell_type": "code",
      "metadata": {
        "colab": {
          "base_uri": "https://localhost:8080/"
        },
        "id": "qz0sKq-SGQWp",
        "outputId": "35f269b7-bd36-4296-c89d-b88088aeffab"
      },
      "source": [
        "\n",
        "i=1\n",
        "while i<6:\n",
        " print (i)\n",
        " i+=1\n",
        "else:\n",
        " print(\"i is no longer less than 6\")"
      ],
      "execution_count": null,
      "outputs": [
        {
          "output_type": "stream",
          "name": "stdout",
          "text": [
            "1\n",
            "2\n",
            "3\n",
            "4\n",
            "5\n",
            "i is no longer less than 6\n"
          ]
        }
      ]
    },
    {
      "cell_type": "markdown",
      "metadata": {
        "id": "g3joRJ4MGumZ"
      },
      "source": [
        "##Application 1\n",
        "###Create a python program that displays Hello 0 to Hello 10"
      ]
    },
    {
      "cell_type": "code",
      "metadata": {
        "colab": {
          "base_uri": "https://localhost:8080/"
        },
        "id": "ggp6ImzXG5q_",
        "outputId": "66a5b51e-d2d3-4700-df15-d4fd45fe809b"
      },
      "source": [
        "hello=[\"Hello\"]\n",
        "numbers=[\"1\",\"2\",\"3\",\"4\",\"5\",\"6\",\"7\",\"8\",\"9\",\"10\"]\n",
        "for x in hello:\n",
        " for y in numbers:\n",
        "  print(x,y)"
      ],
      "execution_count": null,
      "outputs": [
        {
          "output_type": "stream",
          "name": "stdout",
          "text": [
            "Hello 1\n",
            "Hello 2\n",
            "Hello 3\n",
            "Hello 4\n",
            "Hello 5\n",
            "Hello 6\n",
            "Hello 7\n",
            "Hello 8\n",
            "Hello 9\n",
            "Hello 10\n"
          ]
        }
      ]
    },
    {
      "cell_type": "markdown",
      "metadata": {
        "id": "0DGsdy1NHmf5"
      },
      "source": [
        "##Application 2\n",
        "###Create a python program that displays an integers less than 10 but not less than 3"
      ]
    },
    {
      "cell_type": "code",
      "metadata": {
        "colab": {
          "base_uri": "https://localhost:8080/"
        },
        "id": "8a1SQ_GsH1km",
        "outputId": "9d4786ba-1ba2-4522-d52b-842f8d6ff15f"
      },
      "source": [
        "for x in range(3,10):\n",
        " print(x)"
      ],
      "execution_count": null,
      "outputs": [
        {
          "output_type": "stream",
          "name": "stdout",
          "text": [
            "3\n",
            "4\n",
            "5\n",
            "6\n",
            "7\n",
            "8\n",
            "9\n"
          ]
        }
      ]
    }
  ]
}