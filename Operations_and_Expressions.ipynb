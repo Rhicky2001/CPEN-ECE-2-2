{
  "nbformat": 4,
  "nbformat_minor": 0,
  "metadata": {
    "colab": {
      "name": "Operations and Expressions.ipynb",
      "provenance": [],
      "authorship_tag": "ABX9TyOFkqROssyRhGV2Dfvv5J8s",
      "include_colab_link": true
    },
    "kernelspec": {
      "name": "python3",
      "display_name": "Python 3"
    },
    "language_info": {
      "name": "python"
    }
  },
  "cells": [
    {
      "cell_type": "markdown",
      "metadata": {
        "id": "view-in-github",
        "colab_type": "text"
      },
      "source": [
        "<a href=\"https://colab.research.google.com/github/Rhicky2001/CPEN21A-ECE-2-2/blob/main/Operations_and_Expressions.ipynb\" target=\"_parent\"><img src=\"https://colab.research.google.com/assets/colab-badge.svg\" alt=\"Open In Colab\"/></a>"
      ]
    },
    {
      "cell_type": "markdown",
      "metadata": {
        "id": "BkkeTMeJFF9q"
      },
      "source": [
        "##Bolean Operators"
      ]
    },
    {
      "cell_type": "code",
      "metadata": {
        "colab": {
          "base_uri": "https://localhost:8080/"
        },
        "id": "HzRjtgCbFJEA",
        "outputId": "bfdf0b09-fa3f-4ad0-9c84-93eda6494c82"
      },
      "source": [
        "print (12>6)\n",
        "print (12==6)\n",
        "a = 12\n",
        "b = 6\n",
        "print (a>b)"
      ],
      "execution_count": null,
      "outputs": [
        {
          "output_type": "stream",
          "name": "stdout",
          "text": [
            "True\n",
            "False\n",
            "True\n"
          ]
        }
      ]
    },
    {
      "cell_type": "code",
      "metadata": {
        "colab": {
          "base_uri": "https://localhost:8080/"
        },
        "id": "A4wCF3TkF7bZ",
        "outputId": "5c2a670d-25c9-43f6-e727-6a888b332b33"
      },
      "source": [
        "print(bool(\"Good day!\"))\n",
        "print(bool(10))\n",
        "print(bool(False))\n",
        "print(bool([]))"
      ],
      "execution_count": null,
      "outputs": [
        {
          "output_type": "stream",
          "name": "stdout",
          "text": [
            "True\n",
            "True\n",
            "False\n",
            "False\n"
          ]
        }
      ]
    },
    {
      "cell_type": "code",
      "metadata": {
        "colab": {
          "base_uri": "https://localhost:8080/"
        },
        "id": "l_ceIRk1Ghbd",
        "outputId": "1b82e468-24d0-465d-b1ed-33c326a8635b"
      },
      "source": [
        "def myFunction(): return True\n",
        "print (myFunction())"
      ],
      "execution_count": null,
      "outputs": [
        {
          "output_type": "stream",
          "name": "stdout",
          "text": [
            "True\n"
          ]
        }
      ]
    },
    {
      "cell_type": "code",
      "metadata": {
        "colab": {
          "base_uri": "https://localhost:8080/"
        },
        "id": "hl6a9zjlGxpa",
        "outputId": "7f1263fa-2e5c-41ce-8afd-3bfc35ee7321"
      },
      "source": [
        "def myFunction():return False\n",
        "if myFunction():\n",
        " print(\"True\")\n",
        "else:\n",
        " print(\"False\")"
      ],
      "execution_count": null,
      "outputs": [
        {
          "output_type": "stream",
          "name": "stdout",
          "text": [
            "False\n"
          ]
        }
      ]
    },
    {
      "cell_type": "code",
      "metadata": {
        "colab": {
          "base_uri": "https://localhost:8080/"
        },
        "id": "SUqJll7MHVrx",
        "outputId": "aebb8c05-7c82-4a2a-908d-cc53b54fce71"
      },
      "source": [
        "print (12>6)\n",
        "a = 6 # 0000 0110\n",
        "b = 7 # 0000 0111\n",
        "print (a==b)\n",
        "print (a!=a)\n",
        "print (7==7)"
      ],
      "execution_count": null,
      "outputs": [
        {
          "output_type": "stream",
          "name": "stdout",
          "text": [
            "True\n",
            "False\n",
            "False\n",
            "True\n"
          ]
        }
      ]
    },
    {
      "cell_type": "markdown",
      "metadata": {
        "id": "oWHIWihZH4Fy"
      },
      "source": [
        "##Python Operators"
      ]
    },
    {
      "cell_type": "code",
      "metadata": {
        "colab": {
          "base_uri": "https://localhost:8080/"
        },
        "id": "lmSU_g3wH87w",
        "outputId": "c67e8039-5529-4fb8-83c0-82587b824e5f"
      },
      "source": [
        "print(12+6)\n",
        "print(12-6)\n",
        "print(12*6)\n",
        "print(12/6)\n",
        "print(6%12)\n",
        "print(12//6)\n",
        "print(12**6)"
      ],
      "execution_count": null,
      "outputs": [
        {
          "output_type": "stream",
          "name": "stdout",
          "text": [
            "18\n",
            "6\n",
            "72\n",
            "2.0\n",
            "6\n",
            "2\n",
            "2985984\n"
          ]
        }
      ]
    },
    {
      "cell_type": "markdown",
      "metadata": {
        "id": "m-PY2AdGIduA"
      },
      "source": [
        "##Bitwise Operation"
      ]
    },
    {
      "cell_type": "code",
      "metadata": {
        "colab": {
          "base_uri": "https://localhost:8080/"
        },
        "id": "lzPj21KjIftp",
        "outputId": "88fd5e33-2421-452e-d4ae-2ba37633858f"
      },
      "source": [
        "a=45 # 0010 1101\n",
        "b=18 # 0001 0010\n",
        "print (a^b)\n",
        "print (~a)\n",
        "print (a<<5)"
      ],
      "execution_count": null,
      "outputs": [
        {
          "output_type": "stream",
          "name": "stdout",
          "text": [
            "63\n",
            "-46\n",
            "1440\n"
          ]
        }
      ]
    },
    {
      "cell_type": "markdown",
      "metadata": {
        "id": "3khYgP7UJYqV"
      },
      "source": [
        "##Assignment Operators"
      ]
    },
    {
      "cell_type": "code",
      "metadata": {
        "colab": {
          "base_uri": "https://localhost:8080/"
        },
        "id": "FeJxnCdyJbpk",
        "outputId": "2d390db0-e7b1-4a00-9f3e-d30b7066bf47"
      },
      "source": [
        "x=17\n",
        "x+=26 # Same as x=x+26\n",
        "print (x)"
      ],
      "execution_count": null,
      "outputs": [
        {
          "output_type": "stream",
          "name": "stdout",
          "text": [
            "43\n"
          ]
        }
      ]
    },
    {
      "cell_type": "markdown",
      "metadata": {
        "id": "-mkC74VFJ6T4"
      },
      "source": [
        "##Logical Operators"
      ]
    },
    {
      "cell_type": "code",
      "metadata": {
        "colab": {
          "base_uri": "https://localhost:8080/"
        },
        "id": "cQ4SlywiJ9pS",
        "outputId": "6b1413b2-b669-4b99-dc14-85008e49decc"
      },
      "source": [
        "a = 18\n",
        "b = 22\n",
        "print (a>b and b==b)\n",
        "print (b>a and a==b)"
      ],
      "execution_count": null,
      "outputs": [
        {
          "output_type": "stream",
          "name": "stdout",
          "text": [
            "False\n",
            "False\n"
          ]
        }
      ]
    },
    {
      "cell_type": "markdown",
      "metadata": {
        "id": "54HW9etMKVzd"
      },
      "source": [
        "##Identity Operator"
      ]
    },
    {
      "cell_type": "code",
      "metadata": {
        "colab": {
          "base_uri": "https://localhost:8080/"
        },
        "id": "_o_TrI9LKwM4",
        "outputId": "ac6fb913-698e-47e7-e83d-3c7a821f6c5a"
      },
      "source": [
        "print(b is b)\n",
        "print(b is not b)\n",
        "print(b is not x)"
      ],
      "execution_count": null,
      "outputs": [
        {
          "output_type": "stream",
          "name": "stdout",
          "text": [
            "True\n",
            "False\n",
            "True\n"
          ]
        }
      ]
    }
  ]
}