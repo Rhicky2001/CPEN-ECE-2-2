{
  "nbformat": 4,
  "nbformat_minor": 0,
  "metadata": {
    "colab": {
      "name": "Final Exam.ipynb",
      "provenance": [],
      "authorship_tag": "ABX9TyMxYXJ7mdwoz0A0OPHDnDF7",
      "include_colab_link": true
    },
    "kernelspec": {
      "name": "python3",
      "display_name": "Python 3"
    },
    "language_info": {
      "name": "python"
    }
  },
  "cells": [
    {
      "cell_type": "markdown",
      "metadata": {
        "id": "view-in-github",
        "colab_type": "text"
      },
      "source": [
        "<a href=\"https://colab.research.google.com/github/Rhicky2001/CPEN21A-ECE-2-2/blob/main/Final_Exam.ipynb\" target=\"_parent\"><img src=\"https://colab.research.google.com/assets/colab-badge.svg\" alt=\"Open In Colab\"/></a>"
      ]
    },
    {
      "cell_type": "markdown",
      "source": [
        "#Final Exam"
      ],
      "metadata": {
        "id": "XoWNLadsfSF9"
      }
    },
    {
      "cell_type": "markdown",
      "source": [
        "##Problem 1"
      ],
      "metadata": {
        "id": "2v5-N6SME2Y0"
      }
    },
    {
      "cell_type": "code",
      "source": [
        "sum=0\n",
        "for i in range(-2,8):\n",
        " print(i)\n",
        " if i<5:\n",
        "  sum=sum+i\n",
        "print(\"The summation of those numbers that are less than 5 is:\",sum)"
      ],
      "metadata": {
        "colab": {
          "base_uri": "https://localhost:8080/"
        },
        "id": "VbngcanEE4HH",
        "outputId": "5ee5faf6-5ce5-4b45-8d2b-1b5f8e36c4b1"
      },
      "execution_count": null,
      "outputs": [
        {
          "output_type": "stream",
          "name": "stdout",
          "text": [
            "-2\n",
            "-1\n",
            "0\n",
            "1\n",
            "2\n",
            "3\n",
            "4\n",
            "5\n",
            "6\n",
            "7\n",
            "The summation of those numbers that are less than 5 is: 7\n"
          ]
        }
      ]
    },
    {
      "cell_type": "markdown",
      "source": [
        "##Problem 2"
      ],
      "metadata": {
        "id": "1DiRIch5YBJh"
      }
    },
    {
      "cell_type": "code",
      "source": [
        "i = 1\n",
        "sum = 0\n",
        "print (\"Please enter 5 numbers: \")\n",
        "while i <= 5:\n",
        " num = int(input (\"\"))\n",
        " if i==1 or i==5:\n",
        "  sum = sum + num\n",
        " i=i+1\n",
        "print(\"The sum of the first and last number that you entered is :\",sum)"
      ],
      "metadata": {
        "id": "Mq7BcTNkYD3d",
        "colab": {
          "base_uri": "https://localhost:8080/"
        },
        "outputId": "028591c4-75ff-4e15-cda1-cc45ae30449b"
      },
      "execution_count": null,
      "outputs": [
        {
          "output_type": "stream",
          "name": "stdout",
          "text": [
            "Please enter 5 numbers: \n",
            "45\n",
            "4\n",
            "5\n",
            "4\n",
            "45\n",
            "The sum of the first and last number that you entered is : 90\n"
          ]
        }
      ]
    },
    {
      "cell_type": "markdown",
      "source": [
        "##Problem 3"
      ],
      "metadata": {
        "id": "d13FsMdpFPEq"
      }
    },
    {
      "cell_type": "code",
      "source": [
        "grade = int(input(\"Please enter the student grade :\"))\n",
        "\n",
        "if grade >=90:\n",
        " print(\"A\")\n",
        "elif grade >=80:\n",
        " print(\"B\")\n",
        "elif grade >=70:\n",
        " print(\"C\")\n",
        "elif grade >=60:\n",
        " print(\"D\")\n",
        "else:\n",
        " print(\"F\")"
      ],
      "metadata": {
        "colab": {
          "base_uri": "https://localhost:8080/"
        },
        "id": "wc5CSafbFQ91",
        "outputId": "e989859e-9b8b-47d2-f4e6-235d0905eba5"
      },
      "execution_count": null,
      "outputs": [
        {
          "output_type": "stream",
          "name": "stdout",
          "text": [
            "Please enter the student grade :40\n",
            "F\n"
          ]
        }
      ]
    }
  ]
}