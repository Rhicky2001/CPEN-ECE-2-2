{
  "nbformat": 4,
  "nbformat_minor": 0,
  "metadata": {
    "colab": {
      "name": "MidtermExam.ipynb",
      "provenance": [],
      "authorship_tag": "ABX9TyNNjM4NrIl1gmTv8ICNx3KH",
      "include_colab_link": true
    },
    "kernelspec": {
      "name": "python3",
      "display_name": "Python 3"
    },
    "language_info": {
      "name": "python"
    }
  },
  "cells": [
    {
      "cell_type": "markdown",
      "metadata": {
        "id": "view-in-github",
        "colab_type": "text"
      },
      "source": [
        "<a href=\"https://colab.research.google.com/github/Rhicky2001/CPEN21A-ECE-2-2/blob/main/MidtermExam.ipynb\" target=\"_parent\"><img src=\"https://colab.research.google.com/assets/colab-badge.svg\" alt=\"Open In Colab\"/></a>"
      ]
    },
    {
      "cell_type": "markdown",
      "metadata": {
        "id": "PksFtXPqtRuu"
      },
      "source": [
        "#Midterm Exam"
      ]
    },
    {
      "cell_type": "markdown",
      "metadata": {
        "id": "5AnF61-atUUJ"
      },
      "source": [
        "###Problem Statement 1"
      ]
    },
    {
      "cell_type": "code",
      "metadata": {
        "colab": {
          "base_uri": "https://localhost:8080/"
        },
        "id": "eW8zqQ39tZmu",
        "outputId": "791fd803-bbe1-480e-9718-95f6dc4eda61"
      },
      "source": [
        "x = \"Rhicky C. Lusterio\"\n",
        "y = \"202013590\"\n",
        "z = \"20\"\n",
        "X = \"September 08, 2001\"\n",
        "Y = \"Sunny Brooke 1, Brgy. San Francisco, Gen. Trias, Cavite\"\n",
        "Z = \"Bachelor of Science in Electronics Engineering\"\n",
        "a = \"1.5\"\n",
        "print(\"Fullname :\"+x)\n",
        "print(\"Student No. :\"+y)\n",
        "print(\"Age :\"+z)\n",
        "print(\"Birthday :\"+X)\n",
        "print(\"Address :\"+Y)\n",
        "print(\"Course :\"+Z)\n",
        "print(\"Last Sem GWA :\"+a)"
      ],
      "execution_count": 59,
      "outputs": [
        {
          "output_type": "stream",
          "name": "stdout",
          "text": [
            "Fullname :Rhicky C. Lusterio\n",
            "Student No. :202013590\n",
            "Age :20\n",
            "Birthday :September 08, 2001\n",
            "Address :Sunny Brooke 1, Brgy. San Francisco, Gen. Trias, Cavite\n",
            "Course :Bachelor of Science in Electronics Engineering\n",
            "Last Sem GWA :1.5\n"
          ]
        }
      ]
    },
    {
      "cell_type": "markdown",
      "metadata": {
        "id": "V5Apjs5kva4b"
      },
      "source": [
        "###Problem Statement 2"
      ]
    },
    {
      "cell_type": "code",
      "metadata": {
        "colab": {
          "base_uri": "https://localhost:8080/"
        },
        "id": "rX7eSnvxvdoN",
        "outputId": "f5afb792-d451-42ae-d8fb-aa542d74e754"
      },
      "source": [
        "n = 4\n",
        "print(bool(2<n)and(n<6))\n",
        "print(bool(2<n)or(n==6))\n",
        "print(bool(not(2<n)or(n==6)))\n",
        "print(bool(not(n<6)))"
      ],
      "execution_count": 38,
      "outputs": [
        {
          "output_type": "stream",
          "name": "stdout",
          "text": [
            "True\n",
            "True\n",
            "False\n",
            "False\n"
          ]
        }
      ]
    },
    {
      "cell_type": "code",
      "metadata": {
        "colab": {
          "base_uri": "https://localhost:8080/"
        },
        "id": "KtW3wCavxs4u",
        "outputId": "62745e4e-6974-41ab-a013-ef63005bb40b"
      },
      "source": [
        "answ = \"Y\"\n",
        "print(bool(answ==\"Y\")or(answ==\"y\"))\n",
        "print(bool(answ==\"Y\")and(answ==\"y\"))\n",
        "print(bool(not(answ==\"y\")))"
      ],
      "execution_count": 39,
      "outputs": [
        {
          "output_type": "stream",
          "name": "stdout",
          "text": [
            "True\n",
            "False\n",
            "True\n"
          ]
        }
      ]
    },
    {
      "cell_type": "code",
      "metadata": {
        "id": "Q7ik5OzR1kmB",
        "outputId": "13543006-0e59-49cd-82ed-e6e1b0d7e4c9",
        "colab": {
          "base_uri": "https://localhost:8080/"
        }
      },
      "source": [
        "n = 4\n",
        "answ = \"Y\"\n",
        "print(((2<n)and(n==5+1))or(answ==\"No\"))\n",
        "print(((n==2)and(n==7))or(answ==\"Y\"))\n",
        "print((n==2)and((n==7)or(answ==\"Y\")))"
      ],
      "execution_count": 48,
      "outputs": [
        {
          "output_type": "stream",
          "name": "stdout",
          "text": [
            "False\n",
            "True\n",
            "False\n"
          ]
        }
      ]
    },
    {
      "cell_type": "markdown",
      "metadata": {
        "id": "2DN7EwW95E48"
      },
      "source": [
        "###Problem Statement 3"
      ]
    },
    {
      "cell_type": "code",
      "metadata": {
        "id": "qk3Kk6jy5IK-",
        "outputId": "0dac03d6-938d-40fb-ab03-7fe169274005",
        "colab": {
          "base_uri": "https://localhost:8080/"
        }
      },
      "source": [
        "x = 2\n",
        "y = -3\n",
        "w = 7\n",
        "z = -10\n",
        "\n",
        "print(x/y)\n",
        "print(w/y/x)\n",
        "print(z/y%x)\n",
        "print(x%-y*w)\n",
        "print(x%y)\n",
        "print(z%w-y/x*5+5)\n",
        "print(9-x%(2+y))\n",
        "print(z//w)\n",
        "print((2+y)**2)\n",
        "print(w/x*2)"
      ],
      "execution_count": 58,
      "outputs": [
        {
          "output_type": "stream",
          "name": "stdout",
          "text": [
            "-0.6666666666666666\n",
            "-1.1666666666666667\n",
            "1.3333333333333335\n",
            "14\n",
            "-1\n",
            "16.5\n",
            "9\n",
            "-2\n",
            "1\n",
            "7.0\n"
          ]
        }
      ]
    }
  ]
}