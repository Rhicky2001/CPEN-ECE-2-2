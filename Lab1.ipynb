{
  "nbformat": 4,
  "nbformat_minor": 0,
  "metadata": {
    "colab": {
      "name": "Lab1.ipynb",
      "provenance": [],
      "authorship_tag": "ABX9TyPWx2FLap6ivZ2bW2LravjJ",
      "include_colab_link": true
    },
    "kernelspec": {
      "name": "python3",
      "display_name": "Python 3"
    },
    "language_info": {
      "name": "python"
    }
  },
  "cells": [
    {
      "cell_type": "markdown",
      "metadata": {
        "id": "view-in-github",
        "colab_type": "text"
      },
      "source": [
        "<a href=\"https://colab.research.google.com/github/Rhicky2001/CPEN21A-ECE-2-2/blob/main/Lab1.ipynb\" target=\"_parent\"><img src=\"https://colab.research.google.com/assets/colab-badge.svg\" alt=\"Open In Colab\"/></a>"
      ]
    },
    {
      "cell_type": "markdown",
      "metadata": {
        "id": "l0KA7_Zhe__o"
      },
      "source": [
        "##Laboratory 1"
      ]
    },
    {
      "cell_type": "code",
      "metadata": {
        "colab": {
          "base_uri": "https://localhost:8080/"
        },
        "id": "_xIi-kIpfMHA",
        "outputId": "83e2e33b-1339-4bc0-c93c-21438cd7587b"
      },
      "source": [
        "x = \"Python Programming\"\n",
        "print ( \"Welcome to \" + x )"
      ],
      "execution_count": null,
      "outputs": [
        {
          "output_type": "stream",
          "name": "stdout",
          "text": [
            "Welcome to Python Programming\n"
          ]
        }
      ]
    },
    {
      "cell_type": "code",
      "metadata": {
        "colab": {
          "base_uri": "https://localhost:8080/"
        },
        "id": "v3HAQJFIfnpY",
        "outputId": "f01db267-a3c0-4dd4-86e2-3f0d7f1274d6"
      },
      "source": [
        "name = \"Rhicky C. Lusterio\"\n",
        "age = \"20 yrs. old\"\n",
        "address = \"Sunny Brooke 1, Brgy. San Francisco, Gen. Trias, Cavite\"\n",
        "\n",
        "print (name)\n",
        "print (age)\n",
        "print (address)"
      ],
      "execution_count": null,
      "outputs": [
        {
          "output_type": "stream",
          "name": "stdout",
          "text": [
            "Rhicky C. Lusterio\n",
            "20 yrs. old\n",
            "Sunny Brooke 1, Brgy. San Francisco, Gen. Trias, Cavite\n"
          ]
        }
      ]
    }
  ]
}